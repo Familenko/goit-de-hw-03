{
 "cells": [
  {
   "cell_type": "markdown",
   "id": "0191130d",
   "metadata": {},
   "source": [
    "# завантаження даних і відкриття"
   ]
  },
  {
   "cell_type": "code",
   "execution_count": 1,
   "id": "c2356a4f",
   "metadata": {},
   "outputs": [],
   "source": [
    "import os\n",
    "\n",
    "os.environ[\"PYTHONUNBUFFERED\"] = \"1\"\n",
    "os.environ[\"JAVA_HOME\"] = \"/opt/homebrew/opt/openjdk@17\"\n",
    "os.environ[\"SPARK_HOME\"] = \"/opt/homebrew/Cellar/apache-spark/4.0.0/libexec\"\n",
    "os.environ[\"PATH\"] = os.environ[\"JAVA_HOME\"] + \"/bin:\" + os.environ[\"SPARK_HOME\"] + \"/bin:\" + os.environ[\"PATH\"]"
   ]
  },
  {
   "cell_type": "code",
   "execution_count": 2,
   "id": "a544a2e6",
   "metadata": {},
   "outputs": [
    {
     "data": {
      "text/plain": [
       "'/opt/homebrew/opt/openjdk@17/bin:/opt/homebrew/Cellar/apache-spark/4.0.0/libexec/bin:/Users/aleksejkitajskij/Desktop/goit-de-hw-03/venv/bin:/Users/aleksejkitajskij/Desktop/goit_spark/venv/bin:/usr/bin:/bin:/usr/sbin:/sbin:/usr/local/bin'"
      ]
     },
     "execution_count": 2,
     "metadata": {},
     "output_type": "execute_result"
    }
   ],
   "source": [
    "os.environ[\"PATH\"]"
   ]
  },
  {
   "cell_type": "code",
   "execution_count": 3,
   "id": "ca66f649",
   "metadata": {},
   "outputs": [],
   "source": [
    "from pyspark.sql import SparkSession\n",
    "from pyspark.sql.functions import col, count, min, max, avg, unix_timestamp, count_if, round, when\n",
    "from pyspark.sql.types import TimestampType, IntegerType"
   ]
  },
  {
   "cell_type": "code",
   "execution_count": 4,
   "id": "cdab0432",
   "metadata": {},
   "outputs": [
    {
     "name": "stderr",
     "output_type": "stream",
     "text": [
      "WARNING: Using incubator modules: jdk.incubator.vector\n",
      "Using Spark's default log4j profile: org/apache/spark/log4j2-defaults.properties\n",
      "25/08/16 10:26:25 WARN Utils: Your hostname, Aleksejs-MacBook-Air.local, resolves to a loopback address: 127.0.0.1; using 192.168.0.226 instead (on interface en0)\n",
      "25/08/16 10:26:25 WARN Utils: Set SPARK_LOCAL_IP if you need to bind to another address\n",
      "Using Spark's default log4j profile: org/apache/spark/log4j2-defaults.properties\n",
      "Setting default log level to \"WARN\".\n",
      "To adjust logging level use sc.setLogLevel(newLevel). For SparkR, use setLogLevel(newLevel).\n",
      "25/08/16 10:26:25 WARN NativeCodeLoader: Unable to load native-hadoop library for your platform... using builtin-java classes where applicable\n"
     ]
    }
   ],
   "source": [
    "# Створюємо сесію Spark\n",
    "spark = SparkSession.builder.appName(\"MyGoitSparkSandbox\").getOrCreate()"
   ]
  },
  {
   "cell_type": "markdown",
   "id": "3416975a",
   "metadata": {},
   "source": [
    "# 1 Завантаження даних"
   ]
  },
  {
   "cell_type": "code",
   "execution_count": 5,
   "id": "776683ab",
   "metadata": {},
   "outputs": [],
   "source": [
    "# Завантажуємо датасет\n",
    "users = spark.read.csv('data/users.csv', header=True)\n",
    "purchases = spark.read.csv('data/purchases.csv', header=True)\n",
    "products = spark.read.csv('data/products.csv', header=True)"
   ]
  },
  {
   "cell_type": "code",
   "execution_count": 6,
   "id": "c580cd8f",
   "metadata": {},
   "outputs": [
    {
     "name": "stdout",
     "output_type": "stream",
     "text": [
      "+-------+------+---+-----------------+\n",
      "|user_id|  name|age|            email|\n",
      "+-------+------+---+-----------------+\n",
      "|      1|User_1| 45|user1@example.com|\n",
      "|      2|User_2| 48|user2@example.com|\n",
      "|      3|User_3| 36|user3@example.com|\n",
      "+-------+------+---+-----------------+\n",
      "only showing top 3 rows\n",
      "+-----------+-------+----------+----------+--------+\n",
      "|purchase_id|user_id|product_id|      date|quantity|\n",
      "+-----------+-------+----------+----------+--------+\n",
      "|          1|     52|         9|2022-01-01|       1|\n",
      "|          2|     93|        37|2022-01-02|       8|\n",
      "|          3|     15|        33|2022-01-03|       1|\n",
      "+-----------+-------+----------+----------+--------+\n",
      "only showing top 3 rows\n",
      "+----------+------------+-----------+-----+\n",
      "|product_id|product_name|   category|price|\n",
      "+----------+------------+-----------+-----+\n",
      "|         1|   Product_1|     Beauty|  8.3|\n",
      "|         2|   Product_2|       Home|  8.3|\n",
      "|         3|   Product_3|Electronics|  9.2|\n",
      "+----------+------------+-----------+-----+\n",
      "only showing top 3 rows\n"
     ]
    }
   ],
   "source": [
    "users.show(3)\n",
    "purchases.show(3)\n",
    "products.show(3)"
   ]
  },
  {
   "cell_type": "code",
   "execution_count": 7,
   "id": "2b18bba6",
   "metadata": {},
   "outputs": [],
   "source": [
    "users.createTempView(\"users\")\n",
    "purchases.createTempView(\"purchases\")\n",
    "products.createTempView(\"products\")"
   ]
  },
  {
   "cell_type": "markdown",
   "id": "61bd698b",
   "metadata": {},
   "source": [
    "# 2 Очистка даних"
   ]
  },
  {
   "cell_type": "code",
   "execution_count": 8,
   "id": "3d573697",
   "metadata": {},
   "outputs": [
    {
     "data": {
      "text/plain": [
       "DataFrame[]"
      ]
     },
     "execution_count": 8,
     "metadata": {},
     "output_type": "execute_result"
    }
   ],
   "source": [
    "spark.sql(\"\"\"\n",
    "    CREATE OR REPLACE TEMP VIEW users_clean AS\n",
    "    SELECT CAST(user_id AS STRING) AS user_id,\n",
    "           name,\n",
    "           CAST(age AS INT) AS age,\n",
    "           email\n",
    "    FROM users\n",
    "    WHERE user_id IS NOT NULL\n",
    "      AND name IS NOT NULL\n",
    "      AND age IS NOT NULL\n",
    "      AND email IS NOT NULL\n",
    "\"\"\")\n",
    "\n",
    "spark.sql(\"\"\"\n",
    "    CREATE OR REPLACE TEMP VIEW purchases_clean AS\n",
    "    SELECT CAST(purchase_id AS STRING) AS purchase_id,\n",
    "           CAST(user_id AS STRING) AS user_id,\n",
    "           CAST(product_id AS STRING) AS product_id,\n",
    "           date,\n",
    "           CAST(quantity AS INT) AS quantity\n",
    "    FROM purchases\n",
    "    WHERE purchase_id IS NOT NULL\n",
    "      AND user_id IS NOT NULL\n",
    "      AND product_id IS NOT NULL\n",
    "      AND date IS NOT NULL\n",
    "      AND quantity IS NOT NULL\n",
    "\"\"\")\n",
    "\n",
    "spark.sql(\"\"\"\n",
    "    CREATE OR REPLACE TEMP VIEW products_clean AS\n",
    "    SELECT CAST(product_id AS STRING) AS product_id,\n",
    "           product_name,\n",
    "           category,\n",
    "           CAST(price AS DOUBLE) AS price\n",
    "    FROM products\n",
    "    WHERE product_id IS NOT NULL\n",
    "      AND product_name IS NOT NULL\n",
    "      AND category IS NOT NULL\n",
    "      AND price IS NOT NULL\n",
    "\"\"\")"
   ]
  },
  {
   "cell_type": "markdown",
   "id": "152ec691",
   "metadata": {},
   "source": [
    "# 3 Загальна сума покупок за категоріями"
   ]
  },
  {
   "cell_type": "code",
   "execution_count": 9,
   "id": "7b5f80b2",
   "metadata": {},
   "outputs": [
    {
     "name": "stdout",
     "output_type": "stream",
     "text": [
      "+-----------+------------+\n",
      "|   category|total_amount|\n",
      "+-----------+------------+\n",
      "|     Sports|      1755.0|\n",
      "|       Home|      1439.0|\n",
      "|Electronics|      1142.0|\n",
      "|   Clothing|       696.0|\n",
      "|     Beauty|       442.0|\n",
      "+-----------+------------+\n",
      "\n"
     ]
    }
   ],
   "source": [
    "spark.sql(\"\"\"\n",
    "    SELECT pr.category,\n",
    "           ROUND(SUM(pc.quantity * pr.price)) AS total_amount\n",
    "    FROM purchases_clean pc\n",
    "    JOIN products_clean pr ON pc.product_id = pr.product_id\n",
    "    JOIN users_clean u ON pc.user_id = u.user_id\n",
    "    GROUP BY pr.category\n",
    "    ORDER BY total_amount DESC\n",
    "\"\"\").show()"
   ]
  },
  {
   "cell_type": "markdown",
   "id": "eca7c216",
   "metadata": {},
   "source": [
    "# 4 Сума для віку 18–25"
   ]
  },
  {
   "cell_type": "code",
   "execution_count": 10,
   "id": "ac5c151e",
   "metadata": {},
   "outputs": [
    {
     "name": "stdout",
     "output_type": "stream",
     "text": [
      "+-----------+----------------+\n",
      "|   category|age_18_25_amount|\n",
      "+-----------+----------------+\n",
      "|       Home|           361.0|\n",
      "|     Sports|           310.0|\n",
      "|Electronics|           250.0|\n",
      "|   Clothing|           245.0|\n",
      "|     Beauty|            41.0|\n",
      "+-----------+----------------+\n",
      "\n"
     ]
    }
   ],
   "source": [
    "spark.sql(\"\"\"\n",
    "    CREATE OR REPLACE TEMP VIEW total_by_cat_18_25 AS\n",
    "    SELECT pr.category,\n",
    "           ROUND(SUM(pc.quantity * pr.price)) AS age_18_25_amount\n",
    "    FROM purchases_clean pc\n",
    "    JOIN products_clean pr ON pc.product_id = pr.product_id\n",
    "    JOIN users_clean u ON pc.user_id = u.user_id\n",
    "    WHERE u.age BETWEEN 18 AND 25\n",
    "    GROUP BY pr.category\n",
    "    ORDER BY age_18_25_amount DESC\n",
    "\"\"\")\n",
    "\n",
    "spark.sql(\"\"\"\n",
    "    SELECT *\n",
    "    FROM total_by_cat_18_25\n",
    "\"\"\").show()"
   ]
  },
  {
   "cell_type": "markdown",
   "id": "b13bd772",
   "metadata": {},
   "source": [
    "# 5 Частка від сумарних витрат 18–25"
   ]
  },
  {
   "cell_type": "code",
   "execution_count": 11,
   "id": "1f263fd4",
   "metadata": {},
   "outputs": [
    {
     "name": "stdout",
     "output_type": "stream",
     "text": [
      "+-----------+----------------+-------------+\n",
      "|   category|age_18_25_amount|share_percent|\n",
      "+-----------+----------------+-------------+\n",
      "|       Home|           361.0|        29.89|\n",
      "|     Sports|           310.0|        25.67|\n",
      "|Electronics|           250.0|         20.7|\n",
      "|   Clothing|           245.0|        20.29|\n",
      "|     Beauty|            41.0|          3.4|\n",
      "+-----------+----------------+-------------+\n",
      "\n"
     ]
    }
   ],
   "source": [
    "spark.sql(\"\"\"\n",
    "    CREATE OR REPLACE TEMP VIEW share_18_25 AS\n",
    "    WITH total_sum AS (\n",
    "        SELECT SUM(pc.quantity * pr.price) AS total_amount_18_25\n",
    "        FROM purchases_clean pc\n",
    "        JOIN products_clean pr ON pc.product_id = pr.product_id\n",
    "        JOIN users_clean u ON pc.user_id = u.user_id\n",
    "        WHERE u.age BETWEEN 18 AND 25\n",
    "    )\n",
    "    SELECT t.category,\n",
    "           t.age_18_25_amount,\n",
    "           ROUND(t.age_18_25_amount / ts.total_amount_18_25 * 100, 2) AS share_percent\n",
    "    FROM total_by_cat_18_25 t\n",
    "    CROSS JOIN total_sum ts\n",
    "    ORDER BY share_percent DESC\n",
    "\"\"\")\n",
    "\n",
    "spark.sql(\"\"\"\n",
    "    SELECT *\n",
    "    FROM share_18_25\n",
    "\"\"\").show()"
   ]
  },
  {
   "cell_type": "markdown",
   "id": "c760051e",
   "metadata": {},
   "source": [
    "# 6 Топ-3 категорії"
   ]
  },
  {
   "cell_type": "code",
   "execution_count": 12,
   "id": "b829316d",
   "metadata": {},
   "outputs": [
    {
     "name": "stdout",
     "output_type": "stream",
     "text": [
      "+-----------+----------------+-------------+\n",
      "|   category|age_18_25_amount|share_percent|\n",
      "+-----------+----------------+-------------+\n",
      "|       Home|           361.0|        29.89|\n",
      "|     Sports|           310.0|        25.67|\n",
      "|Electronics|           250.0|         20.7|\n",
      "+-----------+----------------+-------------+\n",
      "\n"
     ]
    }
   ],
   "source": [
    "spark.sql(\"\"\"\n",
    "    SELECT *\n",
    "    FROM share_18_25\n",
    "    ORDER BY share_percent DESC\n",
    "    LIMIT 3\n",
    "\"\"\").show()"
   ]
  }
 ],
 "metadata": {
  "kernelspec": {
   "display_name": "venv",
   "language": "python",
   "name": "python3"
  },
  "language_info": {
   "codemirror_mode": {
    "name": "ipython",
    "version": 3
   },
   "file_extension": ".py",
   "mimetype": "text/x-python",
   "name": "python",
   "nbconvert_exporter": "python",
   "pygments_lexer": "ipython3",
   "version": "3.11.3"
  }
 },
 "nbformat": 4,
 "nbformat_minor": 5
}
